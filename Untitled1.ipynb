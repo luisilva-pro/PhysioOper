{
 "cells": [
  {
   "cell_type": "markdown",
   "id": "6cfaff7c",
   "metadata": {},
   "source": [
    "# Wobbles Analysis with Accelerometry "
   ]
  },
  {
   "cell_type": "markdown",
   "id": "baa550ec",
   "metadata": {},
   "source": [
    "## Import Packages"
   ]
  },
  {
   "cell_type": "code",
   "execution_count": 1,
   "id": "376114eb",
   "metadata": {},
   "outputs": [],
   "source": [
    "import numpy as np\n",
    "import matplotlib.pyplot as plt\n",
    "from scipy import signal as si\n",
    "import pandas as pd\n",
    "import seaborn as sns\n",
    "import statsmodels.api as sm\n",
    "import neurokit2 as nk\n",
    "from dtw import dtw, accelerated_dtw\n",
    "import emd\n",
    "import glob\n",
    "import os\n",
    "\n",
    "sns.set()"
   ]
  },
  {
   "cell_type": "markdown",
   "id": "c28955e4",
   "metadata": {},
   "source": [
    "## Import Data "
   ]
  },
  {
   "cell_type": "code",
   "execution_count": 2,
   "id": "fc6c2ff3",
   "metadata": {},
   "outputs": [
    {
     "name": "stdout",
     "output_type": "stream",
     "text": [
      "['/Users/luissilva/PycharmProjects/PhysioOper/data/S02_REST_POS_2021-11-11_17-41-17.txt'\n",
      " '/Users/luissilva/PycharmProjects/PhysioOper/data/S02_REST_PRE_2021-11-11_16-17-24.txt'\n",
      " '/Users/luissilva/PycharmProjects/PhysioOper/data/S02_task1_2021-11-05_15-52-46.txt'\n",
      " '/Users/luissilva/PycharmProjects/PhysioOper/data/S02_task2_2021-11-05_16-13-59.txt'\n",
      " '/Users/luissilva/PycharmProjects/PhysioOper/data/S02_task3_2021-11-05_16-37-44.txt'\n",
      " '/Users/luissilva/PycharmProjects/PhysioOper/data/S03_REST_POS_2021-11-11_13-06-56.txt'\n",
      " '/Users/luissilva/PycharmProjects/PhysioOper/data/S03_REST_PRE_2021-11-11_11-15-07.txt'\n",
      " '/Users/luissilva/PycharmProjects/PhysioOper/data/S03_TASK1_2021-11-11_12-19-12.txt'\n",
      " '/Users/luissilva/PycharmProjects/PhysioOper/data/S03_TASK2_2021-11-11_12-35-07.txt'\n",
      " '/Users/luissilva/PycharmProjects/PhysioOper/data/S03_TASK3_2021-11-11_12-55-04.txt'\n",
      " '/Users/luissilva/PycharmProjects/PhysioOper/data/S04_REST_POS_2021-11-11_17-41-17.txt'\n",
      " '/Users/luissilva/PycharmProjects/PhysioOper/data/S04_REST_PRE_2021-11-11_16-17-24.txt'\n",
      " '/Users/luissilva/PycharmProjects/PhysioOper/data/S04_TASK1_2021-11-11_16-50-15.txt'\n",
      " '/Users/luissilva/PycharmProjects/PhysioOper/data/S04_TASK2_2021-11-11_17-12-58.txt'\n",
      " '/Users/luissilva/PycharmProjects/PhysioOper/data/S04_TASK3_2021-11-11_17-29-11.txt'\n",
      " '/Users/luissilva/PycharmProjects/PhysioOper/data/S05_REP_POS_2021-11-12_12-00-23.txt'\n",
      " '/Users/luissilva/PycharmProjects/PhysioOper/data/S05_REP_PRE_2021-11-12_10-52-37.txt'\n",
      " '/Users/luissilva/PycharmProjects/PhysioOper/data/S05_TASK1_2021-11-12_11-04-39.txt'\n",
      " '/Users/luissilva/PycharmProjects/PhysioOper/data/S05_TASK2_2_2021-11-12_11-31-31.txt'\n",
      " '/Users/luissilva/PycharmProjects/PhysioOper/data/S05_TASK3_2021-11-12_11-47-47.txt']\n"
     ]
    }
   ],
   "source": [
    "file_list = glob.glob(os.path.join(os.getcwd(), '/Users/luissilva/PycharmProjects/PhysioOper/data', \"*.txt\"))\n",
    "file_list = np.sort(file_list)\n",
    "print(file_list)\n",
    "\n",
    "data = []\n",
    "\n",
    "for file_path in file_list:\n",
    "    load = np.loadtxt(file_path)\n",
    "    data.append(load)\n",
    "\n",
    "info = []\n",
    "\n",
    "for file_path in file_list:\n",
    "    with open(file_path, 'r') as f:\n",
    "        lines = f.readlines()\n",
    "        info.append(lines[1][19:21])"
   ]
  },
  {
   "cell_type": "markdown",
   "id": "25c0cb2a",
   "metadata": {},
   "source": [
    "## Prepare Data "
   ]
  },
  {
   "cell_type": "code",
   "execution_count": 3,
   "id": "db2d181e",
   "metadata": {},
   "outputs": [],
   "source": [
    "id_value = 200000\n",
    "\n",
    "for ii in range(0, len(data)):\n",
    "    if len(data[ii]) > 200000:\n",
    "        data[ii] = data[ii][len(data[ii]) - 570000 - 20000: -20000, :]\n",
    "    else:\n",
    "        data[ii] = data[ii][-120000:, :]\n",
    "\n",
    "acc_data = []\n",
    "\n",
    "for ii in range(0, len(data)):\n",
    "    if info[ii] == 'AD':\n",
    "        acc = np.array([data[ii][:, 11], data[ii][:, 12], data[ii][:, 13]])\n",
    "        acc_data.append(acc)\n",
    "    elif info[ii] == 'DC':\n",
    "        acc = np.array([data[ii][:, 2], data[ii][:, 3], data[ii][:, 4]])\n",
    "        acc_data.append(acc)"
   ]
  },
  {
   "cell_type": "markdown",
   "id": "c62275a8",
   "metadata": {},
   "source": [
    "## Load Calib File "
   ]
  },
  {
   "cell_type": "code",
   "execution_count": 4,
   "id": "3d970b89",
   "metadata": {},
   "outputs": [],
   "source": [
    "calib_name = 'Acc_calib_new.txt'\n",
    "calib = np.loadtxt(calib_name)\n",
    "\n",
    "calib = np.array([calib[:, 2], calib[:, 3], calib[:, 4]])"
   ]
  },
  {
   "cell_type": "markdown",
   "id": "9c5e13de",
   "metadata": {},
   "source": [
    "## Calibration "
   ]
  },
  {
   "cell_type": "code",
   "execution_count": 5,
   "id": "4ca556e8",
   "metadata": {},
   "outputs": [],
   "source": [
    "def convertAcc(signal, calib):\n",
    "    acc_sig = (signal - np.min(calib) / (np.max(calib) - np.min(calib))) * 2 - 1\n",
    "    return acc_sig\n",
    "\n",
    "\n",
    "## Conversion ##\n",
    "\n",
    "acc_conv = acc_data.copy()\n",
    "\n",
    "for ii in range(0, len(acc_data)):\n",
    "    acc = acc_data[ii]\n",
    "    for jj in range(0, len(acc)):\n",
    "        acc_conv[ii][jj, :] = convertAcc(acc[jj, :], calib[jj, :])"
   ]
  },
  {
   "cell_type": "markdown",
   "id": "e4e12494",
   "metadata": {},
   "source": [
    "## Baseline Shift Correction "
   ]
  },
  {
   "cell_type": "code",
   "execution_count": 6,
   "id": "685f90f9",
   "metadata": {},
   "outputs": [],
   "source": [
    "acc_det = acc_conv.copy()\n",
    "\n",
    "for ii in range(0, len(acc_conv)):\n",
    "    acc = acc_conv[ii]\n",
    "    for jj in range(0, len(acc)):\n",
    "        acc_det[ii][jj, :] = acc[jj, :] - np.mean(acc[jj, :])\n"
   ]
  },
  {
   "cell_type": "markdown",
   "id": "39200419",
   "metadata": {},
   "source": [
    "## Filtering Data"
   ]
  },
  {
   "cell_type": "code",
   "execution_count": 7,
   "id": "10cb251f",
   "metadata": {},
   "outputs": [],
   "source": [
    "wind = 101\n",
    "\n",
    "acc_fil = acc_det.copy()\n",
    "\n",
    "for ii in range(0, len(acc_det)):\n",
    "    acc = acc_det[ii]\n",
    "    for jj in range(0, len(acc)):\n",
    "        acc_fil[ii][jj, :] = si.savgol_filter(acc[jj, :], wind, 1)\n"
   ]
  },
  {
   "cell_type": "markdown",
   "id": "8cac1a8a",
   "metadata": {},
   "source": [
    "## Wobbles Quantification "
   ]
  },
  {
   "cell_type": "code",
   "execution_count": 8,
   "id": "08d384b6",
   "metadata": {},
   "outputs": [
    {
     "data": {
      "image/png": "[encoded data removed]",
      "text/plain": [
       "<Figure size 432x288 with 1 Axes>"
      ]
     },
     "metadata": {},
     "output_type": "display_data"
    }
   ],
   "source": [
    "def power(data, fs, fig=1):\n",
    "    ps = np.abs(np.fft.fft(data)) ** 2\n",
    "    time = 1 / fs\n",
    "    freqs = np.fft.fftfreq(data.size, time)\n",
    "    idx = np.argsort(freqs)\n",
    "\n",
    "    if fig == 1:\n",
    "        plt.plot(np.abs(freqs[idx]), ps[idx])\n",
    "\n",
    "    return freqs, ps, idx\n",
    "\n",
    "\n",
    "## Filter data with a bandPass filter between 10 and 20 Hz ##\n",
    "\n",
    "acc_1020 = acc_fil.copy()\n",
    "\n",
    "for ii in range(0, len(acc_fil)):\n",
    "    acc = acc_fil[ii]\n",
    "    for jj in range(0, len(acc)):\n",
    "        acc_1020[ii][jj, :] = nk.signal_filter(acc[jj, :], lowcut=10, highcut=20, method=\"butterworth\", order=4)\n",
    "\n",
    "subj = int(len(info) / 5)\n",
    "acc_trap1020 = np.zeros((subj*5, 3))\n",
    "\n",
    "for ii in range(0, len(acc_trap1020)):\n",
    "    freqs_x, ps_x, idx_x = power(acc_1020[ii][0, :], 1000)\n",
    "    freqs_y, ps_y, idx_y = power(acc_1020[ii][1, :], 1000)\n",
    "    freqs_z, ps_z, idx_z = power(acc_1020[ii][2, :], 1000)\n",
    "\n",
    "    acc_trap1020[ii, 0] = np.trapz(ps_x[idx_x], freqs_x[idx_x]) * 10e-12\n",
    "    acc_trap1020[ii, 1] = np.trapz(ps_y[idx_y], freqs_y[idx_y]) * 10e-12\n",
    "    acc_trap1020[ii, 2] = np.trapz(ps_z[idx_z], freqs_z[idx_z]) * 10e-12"
   ]
  },
  {
   "cell_type": "markdown",
   "id": "290837aa",
   "metadata": {},
   "source": [
    "## Wobbles Boxplot Among Conditions "
   ]
  },
  {
   "cell_type": "code",
   "execution_count": 9,
   "id": "2c403cce",
   "metadata": {},
   "outputs": [
    {
     "data": {
      "image/png": "[encoded data removed]",
      "text/plain": [
       "<Figure size 720x576 with 3 Axes>"
      ]
     },
     "metadata": {},
     "output_type": "display_data"
    }
   ],
   "source": [
    "mom = [ii for ii in range(len(acc_fil)) if ii % 5 == 2]\n",
    "plt.figure(figsize=[10, 8])\n",
    "\n",
    "for ii in range(0, 3):\n",
    "    c = acc_trap1020[:, ii]\n",
    "\n",
    "    c1 = []\n",
    "    c2 = []\n",
    "    c3 = []\n",
    "\n",
    "    for n in mom:\n",
    "        t1 = c[n]\n",
    "        c1.append(t1)\n",
    "        t2 = c[n+1]\n",
    "        c2.append(t2)\n",
    "        t3 = c[n+2]\n",
    "        c3.append(t3)\n",
    "\n",
    "    plt.subplot(3, 1, ii + 1)\n",
    "\n",
    "    labels = ['Trial 1', 'Trial 2', 'Trial 3']\n",
    "    plt.boxplot([c1, c2, c3], notch=True, labels=labels, whiskerprops=dict(linestyle='--', linewidth=2.0))\n",
    "    plt.xticks(fontweight='bold', fontsize=14)\n",
    "    plt.yticks(fontweight='bold', fontsize=12)\n",
    "    if ii == 0:\n",
    "        plt.ylabel('X', fontweight='bold', fontsize=14)\n",
    "    elif ii == 1:\n",
    "        plt.ylabel('Y', fontweight='bold', fontsize=14)\n",
    "    elif ii == 2:\n",
    "        plt.ylabel('Z', fontweight='bold', fontsize=14)\n"
   ]
  },
  {
   "cell_type": "code",
   "execution_count": null,
   "id": "c52d651b",
   "metadata": {},
   "outputs": [],
   "source": []
  }
 ],
 "metadata": {
  "kernelspec": {
   "display_name": "Python 3",
   "language": "python",
   "name": "python3"
  },
  "language_info": {
   "codemirror_mode": {
    "name": "ipython",
    "version": 3
   },
   "file_extension": ".py",
   "mimetype": "text/x-python",
   "name": "python",
   "nbconvert_exporter": "python",
   "pygments_lexer": "ipython3",
   "version": "3.9.5"
  }
 },
 "nbformat": 4,
 "nbformat_minor": 5
}
